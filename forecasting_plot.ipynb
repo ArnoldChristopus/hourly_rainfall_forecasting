{
 "cells": [
  {
   "cell_type": "code",
   "execution_count": null,
   "id": "0c6c8e28",
   "metadata": {},
   "outputs": [],
   "source": [
    "import pandas as pd\n",
    "import numpy as np\n",
    "import matplotlib.pyplot as plt\n",
    "import matplotlib"
   ]
  },
  {
   "cell_type": "markdown",
   "id": "4347e1cf",
   "metadata": {},
   "source": [
    "# Training and Validation Loss Curve"
   ]
  },
  {
   "cell_type": "code",
   "execution_count": null,
   "id": "1a8193bd",
   "metadata": {},
   "outputs": [],
   "source": [
    "def plot_loss(loss):\n",
    "    matplotlib.rcParams.update({'font.size': 14})\n",
    "    plt.figure(figsize = (10,5))\n",
    "    plt.plot(loss['Train cls loss'] + loss['Train reg loss'], label = 'Train Loss (Total)')\n",
    "    plt.plot(loss['Val cls loss'] + loss['Val reg loss'], label = 'Validation Loss (Total)')\n",
    "    plt.ylim(bottom = 0)\n",
    "    plt.xlabel('Epoch')\n",
    "    plt.ylabel('Loss')\n",
    "    plt.legend(ncol = 2)\n",
    "    plt.tight_layout()"
   ]
  },
  {
   "cell_type": "code",
   "execution_count": null,
   "id": "cfa60aba",
   "metadata": {
    "scrolled": true
   },
   "outputs": [],
   "source": [
    "for i in ['cawang', 'ciawi', 'parigi', 'pamulang', 'bendung', 'lengkong', 'ranca', 'pasir']:\n",
    "    loss = pd.read_excel('pred_sum.xlsx', sheet_name = i, usecols = 'B:F', skiprows = 1).dropna()\n",
    "    loss = loss.iloc[:len(loss)-1]\n",
    "    #loss.index += 1\n",
    "    plot_loss(loss)"
   ]
  },
  {
   "cell_type": "markdown",
   "id": "5565c261",
   "metadata": {},
   "source": [
    "# Classification and Regression Loss Curves"
   ]
  },
  {
   "cell_type": "code",
   "execution_count": null,
   "id": "f789665f",
   "metadata": {},
   "outputs": [],
   "source": [
    "def plot_cls_loss(loss):\n",
    "    matplotlib.rcParams.update({'font.size': 14})\n",
    "    plt.figure(figsize = (10,5))\n",
    "    plt.plot(loss['Train cls loss'], label = 'Train Loss (Classification)')\n",
    "    plt.plot(loss['Val cls loss'], label = 'Validation Loss (Classification)')\n",
    "    plt.ylim(bottom = 0)\n",
    "    plt.xlabel('Epoch')\n",
    "    plt.ylabel('Loss')\n",
    "    plt.legend(ncol = 2)\n",
    "    plt.tight_layout()"
   ]
  },
  {
   "cell_type": "code",
   "execution_count": null,
   "id": "2e73ecc4",
   "metadata": {
    "scrolled": true
   },
   "outputs": [],
   "source": [
    "for i in ['cawang', 'ciawi', 'parigi', 'pamulang', 'bendung', 'lengkong', 'ranca', 'pasir']:\n",
    "    loss = pd.read_excel('pred_sum.xlsx', sheet_name = i, usecols = 'B:F', skiprows = 1).dropna()\n",
    "    loss = loss.iloc[:len(loss)-1]\n",
    "    #loss.index += 1\n",
    "    plot_cls_loss(loss)"
   ]
  },
  {
   "cell_type": "code",
   "execution_count": null,
   "id": "8506b8ff",
   "metadata": {},
   "outputs": [],
   "source": [
    "def plot_reg_loss(loss):\n",
    "    matplotlib.rcParams.update({'font.size': 14})\n",
    "    plt.figure(figsize = (10,5))\n",
    "    plt.plot(loss['Train reg loss'], label = 'Train Loss (Regression)')\n",
    "    plt.plot(loss['Val reg loss'], label = 'Validation Loss (Regression)')\n",
    "    plt.ylim(bottom = 0)\n",
    "    plt.xlabel('Epoch')\n",
    "    plt.ylabel('Loss')\n",
    "    plt.legend(ncol = 2)\n",
    "    plt.tight_layout()"
   ]
  },
  {
   "cell_type": "code",
   "execution_count": null,
   "id": "7b02bda3",
   "metadata": {
    "scrolled": true
   },
   "outputs": [],
   "source": [
    "for i in ['cawang', 'ciawi', 'parigi', 'pamulang', 'bendung', 'lengkong', 'ranca', 'pasir']:\n",
    "    loss = pd.read_excel('pred_sum.xlsx', sheet_name = i, usecols = 'B:F', skiprows = 1).dropna()\n",
    "    loss = loss.iloc[:len(loss)-1]\n",
    "    #loss.index += 1\n",
    "    plot_reg_loss(loss)"
   ]
  },
  {
   "cell_type": "markdown",
   "id": "0a103641",
   "metadata": {},
   "source": [
    "# Prediction vs Actual Plot (Validation)"
   ]
  },
  {
   "cell_type": "code",
   "execution_count": null,
   "id": "96239a35",
   "metadata": {},
   "outputs": [],
   "source": [
    "def plot_val(val):\n",
    "    matplotlib.rcParams.update({'font.size': 14})\n",
    "    plt.figure(figsize = (10,5))\n",
    "    plt.plot(val['Timeval'], val['Cls_val'], label = 'Prediction', zorder = 2)\n",
    "    plt.plot(val['Timeval'], val['Target_cls_val'], label = 'Actual', zorder = 1)\n",
    "    plt.xlabel('Date')\n",
    "    plt.ylabel('Rainfall Classification')\n",
    "    \n",
    "    if name == 'parigi' or name == 'lengkong' or name == 'ranca':\n",
    "        plt.gca().xaxis.set_major_formatter(matplotlib.dates.DateFormatter('%Y-%m-%d'))\n",
    "        xticks = [test['Timetest'].iloc[0], test['Timetest'].iloc[-1]]\n",
    "        plt.xticks(xticks, [tick.strftime('%Y-%m-%d') for tick in xticks])\n",
    "        \n",
    "    else: plt.gca().xaxis.set_major_formatter(matplotlib.dates.DateFormatter('%Y-%m'))\n",
    "        \n",
    "    plt.legend(loc='upper center', bbox_to_anchor=(0.5, -0.15), ncol=2)  # bottom center, outside\n",
    "    plt.tight_layout()\n",
    "\n",
    "    plt.figure(figsize = (10,5))\n",
    "    plt.plot(val['Timeval'], val['Reg_val'], label = 'Prediction', zorder = 2)\n",
    "    plt.plot(val['Timeval'], val['Target_reg_val'], label = 'Actual', zorder = 1)\n",
    "    plt.xlabel('Date')\n",
    "    plt.ylabel('Rainfall (mm)')\n",
    "    plt.legend(ncol=2) \n",
    "    if name == 'parigi' or name == 'lengkong' or name == 'ranca':\n",
    "        plt.gca().xaxis.set_major_formatter(matplotlib.dates.DateFormatter('%Y-%m-%d'))   \n",
    "        xticks = [test['Timetest'].iloc[0], test['Timetest'].iloc[-1]]\n",
    "        plt.xticks(xticks, [tick.strftime('%Y-%m-%d') for tick in xticks])\n",
    "        \n",
    "    else: plt.gca().xaxis.set_major_formatter(matplotlib.dates.DateFormatter('%Y-%m'))\n",
    "        \n",
    "    plt.tight_layout()\n"
   ]
  },
  {
   "cell_type": "code",
   "execution_count": null,
   "id": "fa4d69ca",
   "metadata": {
    "scrolled": true
   },
   "outputs": [],
   "source": [
    "for i in ['cawang', 'ciawi', 'parigi', 'pamulang', 'bendung', 'lengkong', 'ranca', 'pasir']:\n",
    "    val = pd.read_excel('pred_sum.xlsx', sheet_name = i, usecols = 'H:L', skiprows = 1).dropna()\n",
    "    #loss.index += 1\n",
    "    plot_val(val)"
   ]
  },
  {
   "cell_type": "markdown",
   "id": "205650ca",
   "metadata": {},
   "source": [
    "# Prediction vs Actual (Testing)"
   ]
  },
  {
   "cell_type": "code",
   "execution_count": null,
   "id": "5fc6408b",
   "metadata": {},
   "outputs": [],
   "source": [
    "def plot_test(test, name):\n",
    "    matplotlib.rcParams.update({'font.size': 14})\n",
    "    plt.figure(figsize = (10,5))\n",
    "    plt.plot(test['Timetest'], test['Cls_test'], label = 'Prediction', zorder = 2)\n",
    "    plt.plot(test['Timetest'], test['Target_cls_test'], label = 'Actual', zorder = 1)\n",
    "    plt.xlabel('Date')\n",
    "    plt.ylabel('Rainfall Classification')\n",
    "    #plt.legend(loc='upper center', bbox_to_anchor=(0.5, -0.15), ncol=2)  # bottom center, outside\n",
    "    if name == 'parigi' or name == 'lengkong' or name == 'ranca':\n",
    "        plt.gca().xaxis.set_major_formatter(matplotlib.dates.DateFormatter('%Y-%m-%d'))\n",
    "        xticks = [test['Timetest'].iloc[0], test['Timetest'].iloc[-1]]\n",
    "        plt.xticks(xticks, [tick.strftime('%Y-%m-%d') for tick in xticks])\n",
    "        \n",
    "    else: plt.gca().xaxis.set_major_formatter(matplotlib.dates.DateFormatter('%Y-%m'))\n",
    "        \n",
    "    plt.legend(loc='upper center', bbox_to_anchor=(0.5, 1.15), ncol=2)  # bottom center, outside\n",
    "    plt.tight_layout()\n",
    "\n",
    "    plt.figure(figsize = (10,5))\n",
    "    plt.plot(test['Timetest'], test['Reg_test'], label = 'Prediction', zorder = 2)\n",
    "    plt.plot(test['Timetest'], test['Target_reg_test'], label = 'Actual', zorder = 1)\n",
    "    plt.xlabel('Date')\n",
    "    plt.ylabel('Rainfall (mm)')\n",
    "    plt.legend(ncol=2)  # bottom center, outside\n",
    "    if name == 'parigi' or name == 'lengkong' or name == 'ranca':\n",
    "        plt.gca().xaxis.set_major_formatter(matplotlib.dates.DateFormatter('%Y-%m-%d'))   \n",
    "        xticks = [test['Timetest'].iloc[0], test['Timetest'].iloc[-1]]\n",
    "        plt.xticks(xticks, [tick.strftime('%Y-%m-%d') for tick in xticks])\n",
    "    else: plt.gca().xaxis.set_major_formatter(matplotlib.dates.DateFormatter('%Y-%m'))\n",
    "    plt.tight_layout()"
   ]
  },
  {
   "cell_type": "code",
   "execution_count": null,
   "id": "1f5cab3e",
   "metadata": {
    "scrolled": true
   },
   "outputs": [],
   "source": [
    "for i in ['cawang', 'ciawi', 'parigi', 'pamulang', 'bendung', 'lengkong', 'ranca', 'pasir']:\n",
    "    test = pd.read_excel('pred_sum.xlsx', sheet_name = i, usecols = 'N:R', skiprows = 1).dropna()\n",
    "    #loss.index += 1\n",
    "    plot_test(test, i)"
   ]
  },
  {
   "cell_type": "markdown",
   "id": "0bd1ebc3",
   "metadata": {},
   "source": [
    "# Metrics Calculation"
   ]
  },
  {
   "cell_type": "code",
   "execution_count": null,
   "id": "83c8cfe7",
   "metadata": {},
   "outputs": [],
   "source": [
    "from sklearn.metrics import mean_absolute_error, mean_squared_error, r2_score, accuracy_score, precision_score, recall_score, f1_score, confusion_matrix"
   ]
  },
  {
   "cell_type": "code",
   "execution_count": null,
   "id": "34659603",
   "metadata": {},
   "outputs": [],
   "source": [
    "for i in ['cawang', 'ciawi', 'parigi', 'pamulang', 'bendung', 'lengkong', 'ranca', 'pasir']:\n",
    "    test = pd.read_excel('pred_sum.xlsx', sheet_name = i, usecols = 'N:R', skiprows = 1).dropna()\n",
    "    print(i)\n",
    "    print(\n",
    "        'MSE:', mean_squared_error(test['Target_reg_test'], test['Reg_test']), ', RMSE:', (mean_squared_error(test['Target_reg_test'], test['Reg_test']))**.5\n",
    "    )"
   ]
  },
  {
   "cell_type": "code",
   "execution_count": null,
   "id": "4a7b35fe",
   "metadata": {},
   "outputs": [],
   "source": [
    "stations = ['cawang', 'ciawi', 'parigi', 'pamulang', 'bendung', 'lengkong', 'ranca', 'pasir']\n",
    "results = []\n",
    "\n",
    "for station in stations:\n",
    "    test = pd.read_excel('pred_sum.xlsx', sheet_name=station, usecols='N:R', skiprows=1).dropna()\n",
    "    mse = mean_squared_error(test['Target_reg_test'], test['Reg_test'])\n",
    "    rmse = mse ** 0.5\n",
    "    mae = mean_absolute_error(test['Target_reg_test'], test['Reg_test'])\n",
    "    r2 = r2_score(test['Target_reg_test'], test['Reg_test'])\n",
    "    acc = accuracy_score(test['Target_cls_test'], test['Cls_test'])\n",
    "    pre = precision_score(test['Target_cls_test'], test['Cls_test'])\n",
    "    rec = recall_score(test['Target_cls_test'], test['Cls_test'])\n",
    "    f1 = f1_score(test['Target_cls_test'], test['Cls_test'])\n",
    "    confusion = confusion_matrix(test['Target_cls_test'], test['Cls_test'])\n",
    "    tn, fp, fn, tp = confusion.ravel()\n",
    "    results.append({'Station': station, 'MSE': mse, 'RMSE': rmse, 'MAE': mae, 'r2': r2, 'accuracy': acc, 'precision': pre, 'recall': rec, 'f1': f1, 'tn': tn, 'fp': fp, 'fn': fn, 'tp': tp})\n",
    "\n",
    "results_df = pd.DataFrame(results)\n",
    "results_df"
   ]
  },
  {
   "cell_type": "code",
   "execution_count": null,
   "id": "5663bc29",
   "metadata": {},
   "outputs": [],
   "source": [
    "results_df.to_excel('trial.xlsx')"
   ]
  },
  {
   "cell_type": "code",
   "execution_count": null,
   "id": "e439fe2d",
   "metadata": {},
   "outputs": [],
   "source": [
    "stations = ['cawang', 'ciawi', 'parigi', 'pamulang', 'bendung', 'lengkong', 'ranca', 'pasir']\n",
    "results = []\n",
    "\n",
    "for station in stations:\n",
    "    print(station)\n",
    "    test = pd.read_excel('pred_sum.xlsx', sheet_name=station, usecols='N:R', skiprows=1).dropna()\n",
    "    test = test[test['Target_reg_test'] > 0]  # filter for extreme rainfall only\n",
    "\n",
    "    if test.empty:\n",
    "        print(f\"Skipping {station}: No extreme rainfall data.\")\n",
    "        continue  # skip to next station\n",
    "\n",
    "    try:\n",
    "        mse = mean_squared_error(test['Target_reg_test'], test['Reg_test'])\n",
    "        rmse = mse ** 0.5\n",
    "        mae = mean_absolute_error(test['Target_reg_test'], test['Reg_test'])\n",
    "        r2 = r2_score(test['Target_reg_test'], test['Reg_test'])\n",
    "        acc = accuracy_score(test['Target_cls_test'], test['Cls_test'])\n",
    "        pre = precision_score(test['Target_cls_test'], test['Cls_test'], zero_division=0)\n",
    "        rec = recall_score(test['Target_cls_test'], test['Cls_test'], zero_division=0)\n",
    "        f1 = f1_score(test['Target_cls_test'], test['Cls_test'], zero_division=0)\n",
    "        confusion = confusion_matrix(test['Target_cls_test'], test['Cls_test'])\n",
    "        tn, fp, fn, tp = confusion.ravel()\n",
    "    except ValueError as e:\n",
    "        print(f\"Skipping {station} due to error: {e}\")\n",
    "        continue\n",
    "\n",
    "    results.append({\n",
    "        'Station': station, 'MSE': mse, 'RMSE': rmse, 'MAE': mae, 'r2': r2,\n",
    "        'accuracy': acc, 'precision': pre, 'recall': rec, 'f1': f1,\n",
    "        'tn': tn, 'fp': fp, 'fn': fn, 'tp': tp\n",
    "    })\n",
    "\n",
    "rain_df = pd.DataFrame(results)\n",
    "rain_df.to_excel('trialrain.xlsx', index=False)"
   ]
  },
  {
   "cell_type": "code",
   "execution_count": null,
   "id": "0d29e413",
   "metadata": {},
   "outputs": [],
   "source": [
    "rain_df"
   ]
  }
 ],
 "metadata": {
  "kernelspec": {
   "display_name": "Python 3 (ipykernel)",
   "language": "python",
   "name": "python3"
  },
  "language_info": {
   "codemirror_mode": {
    "name": "ipython",
    "version": 3
   },
   "file_extension": ".py",
   "mimetype": "text/x-python",
   "name": "python",
   "nbconvert_exporter": "python",
   "pygments_lexer": "ipython3",
   "version": "3.9.13"
  }
 },
 "nbformat": 4,
 "nbformat_minor": 5
}
